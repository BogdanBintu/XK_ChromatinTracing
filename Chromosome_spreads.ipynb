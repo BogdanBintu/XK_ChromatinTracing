{
 "cells": [
  {
   "cell_type": "code",
   "execution_count": 2,
   "id": "05fafb21",
   "metadata": {},
   "outputs": [],
   "source": [
    "from ioMicro import  *\n"
   ]
  },
  {
   "cell_type": "code",
   "execution_count": 3,
   "id": "d5cf0779",
   "metadata": {},
   "outputs": [],
   "source": [
    "flds = glob.glob(r'Z:\\PTK_SI14_CtrlP2_03_06_2023\\H*')+glob.glob(r'Y:\\PTK_SI14_CtrlP2_03_06_2023\\H*')\n",
    "flds = np.array(flds)[np.argsort([get_iH(fld) for fld in flds])]\n",
    "tags = [os.path.basename(fld) for fld in flds]\n",
    "fovs = [os.path.basename(fl) for fl in np.sort(glob.glob(flds[0]+os.sep+'*.zarr'))]"
   ]
  },
  {
   "cell_type": "markdown",
   "id": "dd024be9",
   "metadata": {},
   "source": [
    "### Check all the hybes for one fov"
   ]
  },
  {
   "cell_type": "code",
   "execution_count": 4,
   "id": "dbabdc1d",
   "metadata": {},
   "outputs": [],
   "source": [
    "fov = fovs[43]\n",
    "fls = [fld+os.sep+fov for fld in flds]"
   ]
  },
  {
   "cell_type": "code",
   "execution_count": 5,
   "id": "e3f95075",
   "metadata": {},
   "outputs": [
    {
     "data": {
      "text/plain": [
       "<Image layer 'H47R72_R97_col0' at 0x1e9f2e19820>"
      ]
     },
     "execution_count": 5,
     "metadata": {},
     "output_type": "execute_result"
    }
   ],
   "source": [
    "import napari\n",
    "viewer = napari.Viewer()\n",
    "fl = fls[23]\n",
    "im = np.array(read_im(fl))\n",
    "viewer.add_image(im,name = os.path.basename(os.path.dirname(fl))+'_col0')"
   ]
  },
  {
   "cell_type": "code",
   "execution_count": 6,
   "id": "d1c0f4f3",
   "metadata": {},
   "outputs": [
    {
     "name": "stderr",
     "output_type": "stream",
     "text": [
      "100%|██████████████████████████████████████████████████████████████████████████████████| 35/35 [02:42<00:00,  4.65s/it]\n"
     ]
    }
   ],
   "source": [
    "import napari\n",
    "viewer = napari.Viewer()\n",
    "fl = fls[23]\n",
    "for fl in tqdm(fls[:]):\n",
    "    im = np.array(read_im(fl)[0][11])\n",
    "    viewer.add_image(im,name = os.path.basename(os.path.dirname(fl))+'_col0')\n",
    "    im = np.array(read_im(fl)[1][11])\n",
    "    viewer.add_image(im,name = os.path.basename(os.path.dirname(fl))+'_col1')\n"
   ]
  },
  {
   "cell_type": "code",
   "execution_count": 4,
   "id": "2682fbce",
   "metadata": {},
   "outputs": [],
   "source": [
    "import napari\n",
    "viewer = napari.Viewer()"
   ]
  },
  {
   "cell_type": "code",
   "execution_count": 48,
   "id": "63a56351",
   "metadata": {},
   "outputs": [
    {
     "data": {
      "text/plain": [
       "<Image layer 'H60U1' at 0x19116844130>"
      ]
     },
     "execution_count": 48,
     "metadata": {},
     "output_type": "execute_result"
    }
   ],
   "source": [
    "fl = fls[-3]\n",
    "im = read_im(fl)\n",
    "\n",
    "viewer.add_image(im,name = os.path.basename(os.path.dirname(fl)))"
   ]
  },
  {
   "cell_type": "code",
   "execution_count": 5,
   "id": "0241053c",
   "metadata": {},
   "outputs": [],
   "source": [
    "fl = fls[-3]\n",
    "im = np.array(read_im(fl)[-1][10])\n",
    "im = im[1300:1800,600:1100]\n",
    "napari.view_image(im);"
   ]
  },
  {
   "cell_type": "code",
   "execution_count": 63,
   "id": "c1769003",
   "metadata": {},
   "outputs": [
    {
     "name": "stderr",
     "output_type": "stream",
     "text": [
      "The system cannot execute the specified program.\n"
     ]
    }
   ],
   "source": [
    "import ioMicro\n",
    "!\"{ioMicro.__file__}\""
   ]
  },
  {
   "cell_type": "code",
   "execution_count": 97,
   "id": "24cfb7be",
   "metadata": {},
   "outputs": [],
   "source": [
    "all_models = ['cyto',\n",
    " 'nuclei',\n",
    " 'cyto2',\n",
    " 'bact_phase_cp',\n",
    " 'bact_fluor_cp',\n",
    " 'plant_cp',\n",
    " 'worm_cp',\n",
    " 'cyto2_omni',\n",
    " 'bact_phase_omni',\n",
    " 'bact_fluor_omni',\n",
    " 'plant_omni',\n",
    " 'worm_omni',\n",
    " 'worm_bact_omni',\n",
    " 'worm_high_res_omni']"
   ]
  },
  {
   "cell_type": "code",
   "execution_count": 98,
   "id": "c2e80f02",
   "metadata": {},
   "outputs": [
    {
     "name": "stdout",
     "output_type": "stream",
     "text": [
      "2023-03-05 07:33:24,628 [INFO] TORCH GPU version not installed/working.\n",
      "2023-03-05 07:33:24,628 [INFO] >>>> using CPU\n",
      "2023-03-05 07:33:24,751 [INFO] ~~~ FINDING MASKS ~~~\n",
      "2023-03-05 07:33:27,156 [INFO] >>>> TOTAL TIME 2.41 sec\n"
     ]
    },
    {
     "data": {
      "text/plain": [
       "<Labels layer 'masks' at 0x1f65e7a48b0>"
      ]
     },
     "execution_count": 98,
     "metadata": {},
     "output_type": "execute_result"
    }
   ],
   "source": [
    "from cellpose import models, io,utils\n",
    "model='bact_phase_omni'\n",
    "model = models.Cellpose(gpu=True, model_type=model)\n",
    "chan = [0,0]\n",
    "im_ = np.array(im,dtype=np.float32)\n",
    "resc = 1\n",
    "#img = (cv2.blur(im_,(2,2))-cv2.blur(im_,(300,300)))[::resc,::resc]\n",
    "img = -(cv2.blur(im_,(2,2))-cv2.blur(im_,(40,40)))[::resc,::resc]\n",
    "\n",
    "#img = -(im_-cv2.blur(im_,(30,30)))[::resc,::resc]\n",
    "p1 = np.percentile(img,1)\n",
    "p99=None\n",
    "if p99 is None:\n",
    "    p99 = np.percentile(img,99.5)\n",
    "img = np.array(np.clip((img-p1)/(p99-p1),0,1),dtype=np.float32)\n",
    "#masks, flows, styles, diams = model.eval(img, diameter=15, channels=chan,\n",
    "#                                     min_size=10,normalize=True,omni=True)\n",
    "\n",
    "# define parameters\n",
    "mask_threshold = -1 \n",
    "verbose = 0 # turn on if you want to see more output \n",
    "use_gpu = True #defined above\n",
    "transparency = True # transparency in flow output\n",
    "rescale=None # give this a number if you need to upscale or downscale your images\n",
    "omni = True # we can turn off Omnipose mask reconstruction, not advised \n",
    "flow_threshold = 0 # default is .4, but only needed if there are spurious masks to clean up; slows down output\n",
    "resample = True #whether or not to run dynamics on rescaled grid or original grid \n",
    "cluster=True # use DBSCAN clustering\n",
    "\n",
    "masks, flows, styles,diams = model.eval(img,channels=chan,rescale=rescale,mask_threshold=mask_threshold,\n",
    "                                  transparency=transparency,flow_threshold=flow_threshold,omni=omni,\n",
    "                                  cluster=cluster, resample=True,verbose=verbose)\n",
    "\n",
    "viewer = napari.view_image(1-img)\n",
    "viewer.add_labels(masks)"
   ]
  },
  {
   "cell_type": "markdown",
   "id": "6900855d",
   "metadata": {},
   "source": [
    "### bits"
   ]
  },
  {
   "cell_type": "code",
   "execution_count": 102,
   "id": "9fbd104d",
   "metadata": {},
   "outputs": [],
   "source": [
    "im = read_im(fls[0])"
   ]
  },
  {
   "cell_type": "code",
   "execution_count": 103,
   "id": "3495b1c7",
   "metadata": {},
   "outputs": [
    {
     "data": {
      "text/plain": [
       "Viewer(axes=Axes(visible=False, labels=True, colored=True, dashed=False, arrows=True), camera=Camera(center=(0.0, 1399.5, 1399.5), zoom=0.40883928571428574, angles=(0.0, 0.0, 90.0), perspective=0.0, interactive=True), cursor=Cursor(position=(1.0, 1.0, 0.0, 0.0), scaled=True, size=1, style=<CursorStyle.STANDARD: 'standard'>), dims=Dims(ndim=4, ndisplay=2, last_used=0, range=((0.0, 3.0, 1.0), (0.0, 20.0, 1.0), (0.0, 2800.0, 1.0), (0.0, 2800.0, 1.0)), current_step=(1, 10, 1400, 1400), order=(0, 1, 2, 3), axis_labels=('0', '1', '2', '3')), grid=GridCanvas(stride=1, shape=(-1, -1), enabled=False), layers=[<Image layer 'im' at 0x1f66a79ee50>], scale_bar=ScaleBar(visible=False, colored=False, ticks=True, position=<Position.BOTTOM_RIGHT: 'bottom_right'>, font_size=10, unit=None), text_overlay=TextOverlay(visible=False, color=(0.5, 0.5, 0.5, 1.0), font_size=10, position=<TextOverlayPosition.TOP_LEFT: 'top_left'>, text=''), overlays=Overlays(interaction_box=InteractionBox(points=None, show=False, show_handle=False, show_vertices=False, selection_box_drag=None, selection_box_final=None, transform_start=<napari.utils.transforms.transforms.Affine object at 0x000001F666B2E280>, transform_drag=<napari.utils.transforms.transforms.Affine object at 0x000001F666B2E220>, transform_final=<napari.utils.transforms.transforms.Affine object at 0x000001F666B2E310>, transform=<napari.utils.transforms.transforms.Affine object at 0x000001F666B2E2B0>, allow_new_selection=True, selected_vertex=None)), help='', status='Ready', tooltip=Tooltip(visible=False, text=''), theme='dark', title='napari', mouse_move_callbacks=[<function InteractionBoxMouseBindings.initialize_mouse_events.<locals>.mouse_move at 0x000001F66A7A2B80>], mouse_drag_callbacks=[<function InteractionBoxMouseBindings.initialize_mouse_events.<locals>.mouse_drag at 0x000001F66A7A2700>], mouse_double_click_callbacks=[], mouse_wheel_callbacks=[<function dims_scroll at 0x000001F5D7534310>], _persisted_mouse_event={}, _mouse_drag_gen={}, _mouse_wheel_gen={}, keymap={'Shift': <function InteractionBoxMouseBindings.initialize_key_events.<locals>.hold_to_lock_aspect_ratio at 0x000001F66A7A2430>, 'Control-Shift-R': <function InteractionBoxMouseBindings._reset_active_layer_affine at 0x000001F66A7A2670>, 'Control-Shift-A': <function InteractionBoxMouseBindings._transform_active_layer at 0x000001F66A7A25E0>})"
      ]
     },
     "execution_count": 103,
     "metadata": {},
     "output_type": "execute_result"
    }
   ],
   "source": [
    "napari.view_image(im)"
   ]
  },
  {
   "cell_type": "code",
   "execution_count": 109,
   "id": "c5eef92e",
   "metadata": {},
   "outputs": [
    {
     "data": {
      "text/plain": [
       "<Image layer 'im_sig' at 0x1f66a8b9760>"
      ]
     },
     "execution_count": 109,
     "metadata": {},
     "output_type": "execute_result"
    }
   ],
   "source": [
    "fl = fls[0]\n",
    "im_dapi = np.array(read_im(fl)[-1][10])\n",
    "im_dapi = im_dapi[1300:1800,600:1100]\n",
    "\n",
    "viewer = napari.view_image(im_dapi);\n",
    "im_sig = np.max(im[1][6:10],axis=0)[1300:1800,600:1100]\n",
    "viewer.add_image(im_sig)\n"
   ]
  },
  {
   "cell_type": "code",
   "execution_count": 116,
   "id": "f5d398d4",
   "metadata": {},
   "outputs": [],
   "source": [
    "fl = fls[0]\n",
    "im_dapi = np.array(read_im(fl)[-1])\n",
    "fl = fls[-2]\n",
    "im_dapi2 = np.array(read_im(fl)[-1])"
   ]
  },
  {
   "cell_type": "code",
   "execution_count": 118,
   "id": "67a674eb",
   "metadata": {},
   "outputs": [],
   "source": []
  },
  {
   "cell_type": "code",
   "execution_count": 121,
   "id": "9c62f258",
   "metadata": {},
   "outputs": [
    {
     "data": {
      "text/plain": [
       "<Image layer 'im_sig [1]' at 0x1f6cec458b0>"
      ]
     },
     "execution_count": 121,
     "metadata": {},
     "output_type": "execute_result"
    }
   ],
   "source": []
  },
  {
   "cell_type": "code",
   "execution_count": 124,
   "id": "bb882a15",
   "metadata": {},
   "outputs": [
    {
     "data": {
      "text/plain": [
       "<Image layer 'im_sig' at 0x1f6cef383d0>"
      ]
     },
     "execution_count": 124,
     "metadata": {},
     "output_type": "execute_result"
    }
   ],
   "source": [
    "fl_ref = fls[-2]\n",
    "im_dapi2 = np.array(read_im(fl_ref)[-1])\n",
    "im_dapi2_ = im_dapi2[10,1300:1800,600:1100]\n",
    "viewer = napari.view_image(im_dapi2_);\n",
    "\n",
    "\n",
    "fl = fls[0]\n",
    "im_dapi = np.array(read_im(fl)[-1])\n",
    "\n",
    "txyz,txyzs = get_txyz(im_dapi,im_dapi2,sz_norm=20,sz=400)\n",
    "\n",
    "from dask import array as da\n",
    "im_ = da.roll(read_im(fl),txyz,axis=[1,2,3])\n",
    "im_sig = np.max(im_[1][6:10],axis=0)[1300:1800,600:1100]\n",
    "\n",
    "\n",
    "viewer.add_image(im_sig)"
   ]
  },
  {
   "cell_type": "code",
   "execution_count": 138,
   "id": "9d2c1ff7",
   "metadata": {},
   "outputs": [
    {
     "data": {
      "text/plain": [
       "<Image layer 'H55U7_1' at 0x1f6ba12d220>"
      ]
     },
     "execution_count": 138,
     "metadata": {},
     "output_type": "execute_result"
    }
   ],
   "source": [
    "ifl = [ifl for ifl,fl in enumerate(fls) if 'U7' in os.path.basename(os.path.dirname(fl))][0]\n",
    "fl = fls[ifl]\n",
    "im_dapi = np.array(read_im(fl)[-1])\n",
    "\n",
    "txyz,txyzs = get_txyz(im_dapi,im_dapi2,sz_norm=20,sz=400)\n",
    "\n",
    "from dask import array as da\n",
    "im_ = da.roll(read_im(fl),txyz,axis=[1,2,3])\n",
    "\n",
    "icol=1\n",
    "im_sig = np.max(im_[icol][6:10],axis=0)[1300:1800,600:1100]\n",
    "viewer.add_image(im_sig,name = os.path.basename(os.path.dirname(fl))+'_'+str(icol))"
   ]
  },
  {
   "cell_type": "code",
   "execution_count": 108,
   "id": "ff9025aa",
   "metadata": {},
   "outputs": [],
   "source": [
    "class spread_decoder():\n",
    "    def __init__(self,data_folders = [r'Z:\\PTK_SI14_Ctrl_02_26_2023\\H*'],analysis_folder=r'Z:\\PTK_SI14_Ctrl_02_26_2023_analysis'):\n",
    "        flds =  [fld for data_fld in data_folders for fld in glob.glob(data_fld)]\n",
    "        self.analysis_folder = analysis_folder\n",
    "        self.flds = flds = np.array(flds)[np.argsort([get_iH(fld) for fld in flds])]\n",
    "        tags = [os.path.basename(fld) for fld in flds]\n",
    "        self.fovs = [os.path.basename(fl) for fl in np.sort(glob.glob(flds[0]+os.sep+'*.zarr'))]\n",
    "        self.col0Rs = col0Rs = ['R26', 'R27', 'R3', 'R4', 'R30', 'R31', 'R32', 'R8', 'R34', 'R35', 'R36', 'R37', 'R38', 'R14', 'R40', 'R41', 'R42', 'R43', 'R44', 'R45', 'R21', 'R48', 'R49', 'R50', 'R76', 'R77', 'R78', 'R79', 'R80', 'R81', 'R82', 'R83', 'R84', 'R85', 'R86', 'R87', 'R88', 'R89', 'R91', 'R67', 'R93', 'R94', 'R95', 'R96', 'R72', 'R98', 'R99', 'R100']\n",
    "        dic_R_to_ifld = {}\n",
    "        for ifld,fld in enumerate(self.flds):\n",
    "            Rs = htag_to_Rs(os.path.basename(fld))\n",
    "            for R in Rs:\n",
    "                icol=0 if R in col0Rs else 1\n",
    "                dic_R_to_ifld[R]=(ifld,icol,fld)\n",
    "        self.dic_R_to_ifld = dic_R_to_ifld"
   ]
  },
  {
   "cell_type": "code",
   "execution_count": 117,
   "id": "af9f9f41",
   "metadata": {},
   "outputs": [],
   "source": [
    "dec = spread_decoder(data_folders = [r'Z:\\PTK_SI14_Ctrl_02_26_2023\\H*'],\n",
    "                     analysis_folder=r'Z:\\PTK_SI14_Ctrl_02_26_2023_analysis')"
   ]
  },
  {
   "cell_type": "code",
   "execution_count": 192,
   "id": "4f71a4e4",
   "metadata": {},
   "outputs": [],
   "source": [
    "from dask import array as da\n",
    "def load_hybe_fov_im(self,R=None,ifld=0,ifov=0,icol=0,ref=20,force=False):\n",
    "    if R is not None:\n",
    "        ifld,icol,_ = self.dic_R_to_ifld[R]\n",
    "        self.ifld,self.icol = ifld,icol\n",
    "    self.fov = self.fovs[ifov]\n",
    "    self.fl = self.flds[ifld]+os.sep+self.fov\n",
    "    self.fl_ref = self.flds[ref]+os.sep+self.fov\n",
    "    \n",
    "    def get_tag(fl): return os.path.basename(os.path.dirname(fl))\n",
    "    self.drift_save = drift_save = self.analysis_folder+os.sep+'drifts'+get_tag(self.fl_ref)+'--'+get_tag(self.fl)+'--'+os.path.basename(self.fl).split('.')[0]+'.drift'\n",
    "    if not os.path.exists(os.path.dirname(drift_save)):os.makedirs(os.path.dirname(drift_save))\n",
    "    if (not os.path.exists(self.drift_save)) or force:\n",
    "        if self.fl_ref!=getattr(self,'prev_ref',''):\n",
    "            print(\"Reading dapi ref image:\"+str(self.fl_ref))\n",
    "            self.im_dapi_ref = im_dapi = np.array(read_im(self.fl_ref)[-1],dtype=np.float32)\n",
    "            self.prev_ref = self.fl_ref\n",
    "        print(\"Reading dapi image:\"+str(self.fl))\n",
    "        self.im_dapi = np.array(read_im(self.fl)[-1],dtype=np.float32)\n",
    "        print(\"Computing registration...\")\n",
    "        txyz,txyzs = get_txyz(self.im_dapi_ref,self.im_dapi,sz_norm=20,sz=400)\n",
    "        self.txyz,self.txyzs = txyz,txyzs\n",
    "        pickle.dump([txyz,txyzs,self.fl,self.fl_ref],open(self.drift_save ,'wb'))\n",
    "    else:\n",
    "        txyz,txyzs,_,_ = pickle.load(open(self.drift_save ,'rb'))\n",
    "        self.txyz,self.txyzs = txyz,txyzs\n",
    "    print(\"Drift:\"+str(self.txyz))\n",
    "    \n",
    "    self.imf = da.roll(read_im(self.fl),-txyz,axis=[1,2,3])\n",
    "    self.im = self.imf[icol]"
   ]
  },
  {
   "cell_type": "code",
   "execution_count": 119,
   "id": "be758382",
   "metadata": {},
   "outputs": [],
   "source": [
    "\n",
    "#['R47','R90']\n",
    "#R21 - reimaged\n",
    "12--19\n",
    "26--63\n",
    "93--95\n",
    "73--97\n",
    "24--40\n",
    "39--51\n",
    "29--69\n",
    "7--42\n",
    "25--61\n",
    "55--78"
   ]
  },
  {
   "cell_type": "code",
   "execution_count": 219,
   "id": "ea131f3f",
   "metadata": {},
   "outputs": [],
   "source": [
    "#dec.dic_R_to_ifld\n",
    "for ifld,fld in enumerate(dec.flds):\n",
    "    tag = os.path.basename(fld)\n",
    "    if 'U' in tag:\n",
    "        R = 'U'+tag.split('U')[-1]\n",
    "        dec.dic_R_to_ifld[R]=[ifld,1,fld]"
   ]
  },
  {
   "cell_type": "code",
   "execution_count": 175,
   "id": "cc0e7a26",
   "metadata": {},
   "outputs": [],
   "source": [
    "dic_Xh = {}"
   ]
  },
  {
   "cell_type": "code",
   "execution_count": 188,
   "id": "3584e382",
   "metadata": {},
   "outputs": [],
   "source": [
    "dic_ims = {}"
   ]
  },
  {
   "cell_type": "code",
   "execution_count": 233,
   "id": "b8d03666",
   "metadata": {},
   "outputs": [
    {
     "name": "stdout",
     "output_type": "stream",
     "text": [
      "Drift:[-1 23  7]\n",
      "Drift:[  0  17 -87]\n",
      "Drift:[  0  37 -82]\n"
     ]
    }
   ],
   "source": [
    "#for R in ['R12','R19','U1']:\n",
    "#for R in ['R26','R63','U2']:\n",
    "for R in ['R93','R95','U3']:\n",
    "    load_hybe_fov_im(dec,R=R,ifov=43,ref=20,force=False)\n",
    "    slice_cell = tuple([slice(4,10),slice(1275,1775),slice(700,1200)])\n",
    "    im_ = np.array(dec.im[slice_cell],dtype=np.float32)\n",
    "    th_ = np.std(im_)*3+np.median(im_)\n",
    "    Xh = get_local_max(im_,th_fit=th_,im_raw=im_,delta=2,delta_fit=3)\n",
    "    dic_Xh[R] = Xh\n",
    "    dic_ims[R]=im_\n",
    "    \n"
   ]
  },
  {
   "cell_type": "code",
   "execution_count": 218,
   "id": "4ce503f7",
   "metadata": {},
   "outputs": [],
   "source": []
  },
  {
   "cell_type": "code",
   "execution_count": 234,
   "id": "9a8db063",
   "metadata": {},
   "outputs": [],
   "source": [
    "viewer = napari.Viewer()\n",
    "cols=['r','g','y']\n",
    "for iR,R in enumerate(['R93','R95','U3']):\n",
    "    Xh = dic_Xh[R].copy()\n",
    "    zc,xc,yc,bk,a,habs,hn,h = Xh.T\n",
    "    keep = np.argsort(a)[::-1][:500]\n",
    "    Xh = Xh[keep]\n",
    "    zc,xc,yc,bk,a,habs,hn,h = Xh.T\n",
    "    size = (a-np.min(a))/(np.max(a)-np.min(a))*10\n",
    "    viewer.add_image(np.max(dic_ims[R],axis=0),name=R)\n",
    "    viewer.add_points(Xh[:,1:3],size=size,face_color=[0,0,0,0],edge_color=cols[iR%len(cols)],name=R)\n",
    "    "
   ]
  },
  {
   "cell_type": "code",
   "execution_count": 195,
   "id": "4d957111",
   "metadata": {},
   "outputs": [],
   "source": [
    "viewer = napari.Viewer()\n",
    "for R in dic_ims:\n",
    "    viewer.add_image(dic_ims[R],name=R)"
   ]
  },
  {
   "cell_type": "code",
   "execution_count": 184,
   "id": "98deba7e",
   "metadata": {},
   "outputs": [
    {
     "data": {
      "text/plain": [
       "'Z:\\\\PTK_SI14_Ctrl_02_26_2023\\\\H1R1_R26\\\\Conv_zscan__43.zarr'"
      ]
     },
     "execution_count": 184,
     "metadata": {},
     "output_type": "execute_result"
    }
   ],
   "source": [
    "dec.fl"
   ]
  },
  {
   "cell_type": "code",
   "execution_count": 158,
   "id": "8bc65e19",
   "metadata": {},
   "outputs": [],
   "source": [
    "th_ = np.std(im_)*3+np.median(im_)\n",
    "Xh = get_local_max(im_,th_fit=th_,im_raw=im_,delta=2,delta_fit=4)"
   ]
  },
  {
   "cell_type": "code",
   "execution_count": 163,
   "id": "3f0ffb2e",
   "metadata": {},
   "outputs": [],
   "source": []
  },
  {
   "cell_type": "code",
   "execution_count": 167,
   "id": "aa0791be",
   "metadata": {},
   "outputs": [
    {
     "data": {
      "text/plain": [
       "<Points layer 'Points' at 0x1ec59523640>"
      ]
     },
     "execution_count": 167,
     "metadata": {},
     "output_type": "execute_result"
    }
   ],
   "source": []
  },
  {
   "cell_type": "code",
   "execution_count": 148,
   "id": "44877813",
   "metadata": {},
   "outputs": [
    {
     "data": {
      "text/plain": [
       "Viewer(axes=Axes(visible=False, labels=True, colored=True, dashed=False, arrows=True), camera=Camera(center=(0.0, 249.5, 249.5), zoom=2.3313, angles=(0.0, 0.0, 90.0), perspective=0.0, interactive=True), cursor=Cursor(position=(1.0, 1.0, 0.0), scaled=True, size=1, style=<CursorStyle.STANDARD: 'standard'>), dims=Dims(ndim=3, ndisplay=2, last_used=0, range=((0.0, 4.0, 1.0), (0.0, 500.0, 1.0), (0.0, 500.0, 1.0)), current_step=(2, 250, 250), order=(0, 1, 2), axis_labels=('0', '1', '2')), grid=GridCanvas(stride=1, shape=(-1, -1), enabled=False), layers=[<Image layer 'im_' at 0x1ec5c368fd0>], scale_bar=ScaleBar(visible=False, colored=False, ticks=True, position=<Position.BOTTOM_RIGHT: 'bottom_right'>, font_size=10, unit=None), text_overlay=TextOverlay(visible=False, color=(0.5, 0.5, 0.5, 1.0), font_size=10, position=<TextOverlayPosition.TOP_LEFT: 'top_left'>, text=''), overlays=Overlays(interaction_box=InteractionBox(points=None, show=False, show_handle=False, show_vertices=False, selection_box_drag=None, selection_box_final=None, transform_start=<napari.utils.transforms.transforms.Affine object at 0x000001EC575A5640>, transform_drag=<napari.utils.transforms.transforms.Affine object at 0x000001EC575A55E0>, transform_final=<napari.utils.transforms.transforms.Affine object at 0x000001EC575A57C0>, transform=<napari.utils.transforms.transforms.Affine object at 0x000001EC575A5760>, allow_new_selection=True, selected_vertex=None)), help='', status='Ready', tooltip=Tooltip(visible=False, text=''), theme='dark', title='napari', mouse_move_callbacks=[<function InteractionBoxMouseBindings.initialize_mouse_events.<locals>.mouse_move at 0x000001EC5C370B80>], mouse_drag_callbacks=[<function InteractionBoxMouseBindings.initialize_mouse_events.<locals>.mouse_drag at 0x000001EC5C370700>], mouse_double_click_callbacks=[], mouse_wheel_callbacks=[<function dims_scroll at 0x000001EB970220D0>], _persisted_mouse_event={}, _mouse_drag_gen={}, _mouse_wheel_gen={}, keymap={'Shift': <function InteractionBoxMouseBindings.initialize_key_events.<locals>.hold_to_lock_aspect_ratio at 0x000001EC5C370430>, 'Control-Shift-R': <function InteractionBoxMouseBindings._reset_active_layer_affine at 0x000001EC5C370670>, 'Control-Shift-A': <function InteractionBoxMouseBindings._transform_active_layer at 0x000001EC5C3705E0>})"
      ]
     },
     "execution_count": 148,
     "metadata": {},
     "output_type": "execute_result"
    }
   ],
   "source": [
    "import napari\n",
    "napari.view_image(im_)\n",
    "        "
   ]
  },
  {
   "cell_type": "code",
   "execution_count": 107,
   "id": "17dc7be2",
   "metadata": {},
   "outputs": [
    {
     "data": {
      "text/plain": [
       "(9, 1, 'Z:\\\\PTK_SI14_Ctrl_02_26_2023\\\\H9R9_R34')"
      ]
     },
     "execution_count": 107,
     "metadata": {},
     "output_type": "execute_result"
    }
   ],
   "source": [
    "dic_R_to_ifld['R9']"
   ]
  },
  {
   "cell_type": "code",
   "execution_count": 92,
   "id": "22e283a4",
   "metadata": {},
   "outputs": [
    {
     "data": {
      "text/plain": [
       "['R69', 'R94']"
      ]
     },
     "execution_count": 92,
     "metadata": {},
     "output_type": "execute_result"
    }
   ],
   "source": [
    "htag_to_Rs(fld)"
   ]
  },
  {
   "cell_type": "code",
   "execution_count": 72,
   "id": "afc97797",
   "metadata": {},
   "outputs": [
    {
     "data": {
      "text/plain": [
       "True"
      ]
     },
     "execution_count": 72,
     "metadata": {},
     "output_type": "execute_result"
    }
   ],
   "source": [
    "let='0'\n",
    "let.isnumeric()"
   ]
  },
  {
   "cell_type": "code",
   "execution_count": null,
   "id": "db4a0339",
   "metadata": {},
   "outputs": [],
   "source": []
  }
 ],
 "metadata": {
  "kernelspec": {
   "display_name": "Python 3 (ipykernel)",
   "language": "python",
   "name": "python3"
  },
  "language_info": {
   "codemirror_mode": {
    "name": "ipython",
    "version": 3
   },
   "file_extension": ".py",
   "mimetype": "text/x-python",
   "name": "python",
   "nbconvert_exporter": "python",
   "pygments_lexer": "ipython3",
   "version": "3.8.16"
  }
 },
 "nbformat": 4,
 "nbformat_minor": 5
}
