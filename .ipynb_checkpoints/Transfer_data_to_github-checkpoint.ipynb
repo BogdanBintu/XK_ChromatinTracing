{
 "cells": [
  {
   "cell_type": "code",
   "execution_count": 5,
   "id": "11606350",
   "metadata": {},
   "outputs": [],
   "source": [
    "import shutil,glob,os"
   ]
  },
  {
   "cell_type": "code",
   "execution_count": 4,
   "id": "b6d39249",
   "metadata": {},
   "outputs": [],
   "source": [
    "all_fls = glob.glob(r'Z:\\TK_FFBBL1_SampleA_1_27_2023_Analysis\\19--*--dic_pts_cell.pkl')"
   ]
  },
  {
   "cell_type": "code",
   "execution_count": null,
   "id": "cc62d8f6",
   "metadata": {},
   "outputs": [],
   "source": [
    "target = r'C:\\Users\\BintuLabUser\\Scope3AnalysisScripts\\ChromatinTracing2023\\Data_Tula'\n",
    "for fl in all_fls:\n",
    "    if not os.path.exists(fl):\n",
    "        shutil.copy2(fl,target+os.sep+os.path.basename(fl))"
   ]
  }
 ],
 "metadata": {
  "kernelspec": {
   "display_name": "Python 3 (ipykernel)",
   "language": "python",
   "name": "python3"
  },
  "language_info": {
   "codemirror_mode": {
    "name": "ipython",
    "version": 3
   },
   "file_extension": ".py",
   "mimetype": "text/x-python",
   "name": "python",
   "nbconvert_exporter": "python",
   "pygments_lexer": "ipython3",
   "version": "3.8.16"
  }
 },
 "nbformat": 4,
 "nbformat_minor": 5
}
