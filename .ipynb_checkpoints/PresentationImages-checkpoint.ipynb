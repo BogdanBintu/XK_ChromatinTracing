{
 "cells": [
  {
   "cell_type": "code",
   "execution_count": 1,
   "id": "6393fe08",
   "metadata": {},
   "outputs": [
    {
     "name": "stdout",
     "output_type": "stream",
     "text": [
      " Volume in drive C has no label.\n",
      " Volume Serial Number is 8454-AA1F\n",
      "\n",
      " Directory of C:\\Users\\Bogdan\\Dropbox\\ChromatinTracing2023\n",
      "\n",
      "02/27/2023  07:23 AM    <DIR>          .\n",
      "02/27/2023  07:23 AM    <DIR>          ..\n",
      "02/15/2023  07:59 PM    <DIR>          .git\n",
      "02/27/2023  07:23 AM    <DIR>          .ipynb_checkpoints\n",
      "02/10/2023  11:46 PM          (61,960) Checks.ipynb\n",
      "02/20/2023  01:07 PM          (36,501) ChrTracingPA.py\n",
      "02/10/2023  11:46 PM    <DIR>          CommonTools\n",
      "02/20/2023  01:35 PM    <DIR>          Data_Tula\n",
      "02/10/2023  11:46 PM       (3,665,903) FinalSCTA-RNA-analysis-CGBB_6_10_2022_KO-BB.ipynb\n",
      "02/14/2023  04:08 PM          (57,080) MapTulaSeqs.ipynb\n",
      "02/27/2023  07:23 AM                72 PresentationImages.ipynb\n",
      "02/11/2023  06:17 AM      (13,023,632) s41587-022-01568-9.pdf\n",
      "02/10/2023  11:46 PM          (52,626) StandardChromatinAnalysis.py\n",
      "02/10/2023  11:46 PM      (11,950,137) Step1_TK_FFBBL1_SampleA_1_27_2023-fitting.ipynb\n",
      "02/20/2023  03:18 PM       (7,761,666) Step2_DNATraces-20230122_R120PVTS32RDNA.ipynb\n",
      "02/10/2023  11:46 PM      (39,354,678) Step3_RNA-20230122_R120PVTS32RDNA.ipynb\n",
      "02/15/2023  07:58 PM             1,282 Transfer_data_to_github.ipynb\n",
      "02/12/2023  09:55 PM          (55,411) TulaHybes.txt\n",
      "02/10/2023  11:46 PM         (653,894) Untitled.ipynb\n",
      "02/10/2023  11:46 PM           (2,449) worker_DNA.py\n",
      "02/10/2023  11:46 PM           (4,209) worker_DNA_Tula.py\n",
      "02/10/2023  11:46 PM           (2,735) worker_RNA.py\n",
      "02/10/2023  11:46 PM           (2,245) worker_test_DNA.py\n",
      "02/10/2023  11:46 PM           (4,101) worker_test_RNA.py\n",
      "02/20/2023  01:08 PM    <DIR>          __pycache__\n",
      "              18 File(s)     76,690,581 bytes\n",
      "               7 Dir(s)  337,398,063,104 bytes free\n"
     ]
    }
   ],
   "source": [
    "!dir"
   ]
  },
  {
   "cell_type": "code",
   "execution_count": 4,
   "id": "344026ab",
   "metadata": {},
   "outputs": [],
   "source": [
    "from ioMicro import read_im"
   ]
  },
  {
   "cell_type": "code",
   "execution_count": null,
   "id": "be48ae80",
   "metadata": {},
   "outputs": [],
   "source": [
    "read_im()"
   ]
  }
 ],
 "metadata": {
  "kernelspec": {
   "display_name": "Python 3 (ipykernel)",
   "language": "python",
   "name": "python3"
  },
  "language_info": {
   "codemirror_mode": {
    "name": "ipython",
    "version": 3
   },
   "file_extension": ".py",
   "mimetype": "text/x-python",
   "name": "python",
   "nbconvert_exporter": "python",
   "pygments_lexer": "ipython3",
   "version": "3.8.8"
  },
  "toc": {
   "base_numbering": 1,
   "nav_menu": {},
   "number_sections": true,
   "sideBar": true,
   "skip_h1_title": false,
   "title_cell": "Table of Contents",
   "title_sidebar": "Contents",
   "toc_cell": false,
   "toc_position": {},
   "toc_section_display": true,
   "toc_window_display": false
  }
 },
 "nbformat": 4,
 "nbformat_minor": 5
}
