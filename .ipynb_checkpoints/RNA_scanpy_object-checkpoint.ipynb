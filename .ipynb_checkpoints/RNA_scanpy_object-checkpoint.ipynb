{
 "cells": [
  {
   "cell_type": "code",
   "execution_count": 1,
   "id": "b0d0e5dc",
   "metadata": {},
   "outputs": [
    {
     "name": "stderr",
     "output_type": "stream",
     "text": [
      "C:\\Users\\bbintu\\anaconda3\\lib\\site-packages\\anndata\\_core\\anndata.py:120: ImplicitModificationWarning: Transforming to str index.\n",
      "  warnings.warn(\"Transforming to str index.\", ImplicitModificationWarning)\n"
     ]
    }
   ],
   "source": [
    "import sys,os\n",
    "import numpy as np, matplotlib.pyplot as plt\n",
    "import numpy\n",
    "import pickle\n",
    "import imp\n",
    "import glob\n",
    "from PIL import Image\n",
    "import tifffile\n",
    "from tqdm import tqdm_notebook as tqdm\n",
    "\n",
    "import scanpy as sc\n",
    "from scipy.stats import zscore\n",
    "import numpy as np\n",
    "import pandas as pd\n",
    "\n",
    "save_fld = r'\\\\MERFISH6.ucsd.edu\\merfish6v2\\DNA_FISH\\20230122_R120PVTS32RDNA_Analysis'\n",
    "\n",
    "dic_count = pickle.load(open(save_fld+os.sep+'dic_count_V3_nan_patched.pkl','rb'))\n",
    "dic_cells_final = pickle.load(open(save_fld+os.sep+'dic_cells_final_V3.pkl','rb'))\n",
    "cells = list(dic_count.keys())\n",
    "#genes = np.unique([Q for cell in cells for Q in dic_count[cell].keys()])\n",
    "#genes = #['Q'+str(i+1) for i in range(48)]#+['G14','G15','G18','G21']\n",
    "allQs = np.unique([q for cell in dic_count for q in dic_count[cell].keys()])\n",
    "genes = allQs\n",
    "#genes = [q for q in allQs if 'B' not in q and 'I' not in q]\n",
    "dic_annot = {'Gfap': 'Q1', 'Q1': 'Gfap', 'Cspg4': 'Q2', 'Q2': 'Cspg4', 'Olig1': 'Q3', 'Q3': 'Olig1', 'Cx3cr1': 'Q4', 'Q4': 'Cx3cr1', 'Gja1': 'Q5', 'Q5': 'Gja1', 'Pdgfra': 'Q6', 'Q6': 'Pdgfra', 'Flt1': 'Q7', 'Q7': 'Flt1', 'Gad1': 'Q8', 'Q8': 'Gad1', 'Tmem212': 'Q9', 'Q9': 'Tmem212', 'Aqp4': 'Q10', 'Q10': 'Aqp4', 'Cadps2': 'Q11', 'Q11': 'Cadps2', 'P2ry12': 'Q12', 'Q12': 'P2ry12', 'Rbfox3': 'Q13', 'Q13': 'Rbfox3', 'Dcc': 'Q14', 'Q14': 'Dcc', 'Mog': 'Q15', 'Q15': 'Mog', 'Slc17a7': 'Q16', 'Q16': 'Slc17a7', 'Il1rapl2': 'Q17', 'Q17': 'Il1rapl2', 'Mobp': 'Q18', 'Q18': 'Mobp', 'Col25a1': 'Q19', 'Q19': 'Col25a1', 'Lrrtm4': 'Q20', 'Q20': 'Lrrtm4', 'Fos': 'Q21', 'Q21': 'Fos', 'Dab1': 'Q22', 'Q22': 'Dab1', 'Mgat4c': 'Q23', 'Q23': 'Mgat4c', 'Cntnap5b': 'Q24', 'Q24': 'Cntnap5b', 'Hs3st4': 'Q25', 'Q25': 'Hs3st4', 'Pde10a': 'Q26', 'Q26': 'Pde10a', 'Ldb2': 'Q27', 'Q27': 'Ldb2', 'Hs6st3': 'Q28', 'Q28': 'Hs6st3', 'Sdk1': 'Q29', 'Q29': 'Sdk1', 'Sema6d': 'Q30', 'Q30': 'Sema6d', 'Kirrel3': 'Q31', 'Q31': 'Kirrel3', 'Sgcz': 'Q32', 'Q32': 'Sgcz', 'Tafa2': 'Q33', 'Q33': 'Tafa2', 'Scg2': 'Q34', 'Q34': 'Scg2', 'Bdnf': 'Q35', 'Q35': 'Bdnf', 'Tenm2': 'Q36', 'Q36': 'Tenm2', 'Q103': 'Cox6a1', 'Q104': 'Ecel1', 'Q105': 'Cbln2', 'Q100': 'Gria1', 'Cox6a1': 'Q103', 'Ecel1': 'Q104', 'Cbln2': 'Q105', 'Gria1': 'Q100'}\n",
    "genes_names=[dic_annot.get(gn) for gn in genes]#['Adarb2', 'Apod', 'Atp1a2', 'C1ql3', 'Cacnb2', 'Cald1', 'Camk2d', 'Camk2n1', 'Cdh18', 'Cnr1', 'Cst3', 'Cttnbp2', 'Dab1', 'Dcc', 'Dcn', 'Flt1', 'Fras1', 'Gad2', 'Hs3st2', 'Hs3st4', 'Il1rapl2', 'Kcnc2', 'Kcnq5', 'Mef2c', 'Meis2', 'Mt1', 'Ndnf', 'Ndst4', 'Nnat', 'Nos1', 'Nr4a2', 'Nrep', 'Ntng1', 'Ppfia2', 'Ptprd', 'Qk', 'Rbms3', 'Sgcd', 'Slc6a1', 'Sst', 'Tafa1', 'Tafa2', 'Trps1', 'Tshz2', 'Wfs1', 'Wipf3', 'Zbtb20', 'Zfpm2']\n",
    "\n",
    "dic_Q_to_gene = {gn:gn_nm for gn,gn_nm in zip(genes,genes_names)}\n",
    "dic_gene_to_Q = {gn_nm:gn for gn,gn_nm in zip(genes,genes_names)}\n",
    "\n",
    "cells = list(dic_count.keys())\n",
    "data = np.array([[dic_count[cell][gene]for gene in genes]for cell in cells])\n",
    "genes_f = [dic_annot.get(gn,gn)for gn in genes]\n",
    "count_table2 = pd.DataFrame(data=data, index=cells, columns=genes_f)\n",
    "cells = list(dic_count.keys())\n",
    "data = [list(dic_cells_final[cell]['X'][1:])+[dic_cells_final[cell]['volume']] for cell in dic_cells_final]\n",
    "celldata2 = pd.DataFrame(data=data, index=cells, columns=['global_x','global_y','volume'])\n",
    "\n",
    "\n",
    "scdata2 = sc.AnnData(count_table2)\n",
    "scdata2.obsm[\"X_spatial\"] = np.array(\n",
    "    celldata2[[\"global_x\", \"global_y\"]].reindex(\n",
    "        index=scdata2.obs.index.astype(int)\n",
    "    )\n",
    ")\n"
   ]
  },
  {
   "cell_type": "code",
   "execution_count": 6,
   "id": "89820e8c",
   "metadata": {},
   "outputs": [
    {
     "data": {
      "text/plain": [
       "['Gfap',\n",
       " 'Aqp4',\n",
       " 'Gria1',\n",
       " 'Q101',\n",
       " 'Q102',\n",
       " 'Cox6a1',\n",
       " 'Ecel1',\n",
       " 'Cbln2',\n",
       " 'Cadps2',\n",
       " 'P2ry12',\n",
       " 'Rbfox3',\n",
       " 'Dcc',\n",
       " 'Mog',\n",
       " 'Slc17a7',\n",
       " 'Il1rapl2',\n",
       " 'Mobp',\n",
       " 'Col25a1',\n",
       " 'Cspg4',\n",
       " 'Lrrtm4',\n",
       " 'Fos',\n",
       " 'Dab1',\n",
       " 'Mgat4c',\n",
       " 'Cntnap5b',\n",
       " 'Hs3st4',\n",
       " 'Pde10a',\n",
       " 'Ldb2',\n",
       " 'Hs6st3',\n",
       " 'Sdk1',\n",
       " 'Olig1',\n",
       " 'Sema6d',\n",
       " 'Kirrel3',\n",
       " 'Sgcz',\n",
       " 'Tafa2',\n",
       " 'Scg2',\n",
       " 'Bdnf',\n",
       " 'Tenm2',\n",
       " 'Cx3cr1',\n",
       " 'Gja1',\n",
       " 'Pdgfra',\n",
       " 'Flt1',\n",
       " 'Gad1',\n",
       " 'Tmem212']"
      ]
     },
     "execution_count": 6,
     "metadata": {},
     "output_type": "execute_result"
    }
   ],
   "source": []
  },
  {
   "cell_type": "code",
   "execution_count": null,
   "id": "346d3989",
   "metadata": {},
   "outputs": [],
   "source": [
    "adata.write_h5ad(\n",
    "    filename"
   ]
  }
 ],
 "metadata": {
  "kernelspec": {
   "display_name": "Python 3",
   "language": "python",
   "name": "python3"
  },
  "language_info": {
   "codemirror_mode": {
    "name": "ipython",
    "version": 3
   },
   "file_extension": ".py",
   "mimetype": "text/x-python",
   "name": "python",
   "nbconvert_exporter": "python",
   "pygments_lexer": "ipython3",
   "version": "3.8.8"
  }
 },
 "nbformat": 4,
 "nbformat_minor": 5
}
